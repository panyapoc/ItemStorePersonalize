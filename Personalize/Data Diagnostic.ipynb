{
 "cells": [
  {
   "cell_type": "markdown",
   "metadata": {},
   "source": [
    "# Data Diagnostic\n",
    "\n",
    "In this **additional notebook**, we show how to use the basic dataset diagnostic tool included in this repository to check your Amazon Personalize datasets.\n",
    "\n",
    "The provided analysis functions perform some basic validations (e.g. for presence of mandatory columns); check some baseline heuristics (e.g. minimum interaction history of users and items); and produce a variety of statistics and plots to describe the data which are useful for assessing its \"health\" for the recommendations use case.\n",
    "\n",
    "For more details, see the code and comments in [util/diagnostic.py](util/diagnostic.py)."
   ]
  },
  {
   "cell_type": "code",
   "execution_count": null,
   "metadata": {},
   "outputs": [],
   "source": [
    "%load_ext autoreload\n",
    "%autoreload 2\n",
    "\n",
    "# External Dependencies:\n",
    "import pandas as pd\n",
    "\n",
    "# Local Dependencies:\n",
    "import util"
   ]
  },
  {
   "cell_type": "markdown",
   "metadata": {},
   "source": [
    "<div class=\"alert alert-info\">\n",
    "    <p>\n",
    "        <b>Note:</b> These diagnostics use <b>batch, in-memory methods</b>.\n",
    "    </p>\n",
    "    <p>\n",
    "        If your dataset is too large to fit (with required calculations) into notebook instance memory,\n",
    "        running the analysis here will error out and might start starving any other kernels you have running\n",
    "        of resources!\n",
    "    </p>\n",
    "</div>"
   ]
  },
  {
   "cell_type": "code",
   "execution_count": null,
   "metadata": {},
   "outputs": [],
   "source": [
    "# Load whatever files you have, skip what you don't:\n",
    "interactions = pd.read_csv(\"data/interactions-minimal.csv\")\n",
    "items = pd.read_csv(\"data/items-basic.csv\")\n",
    "#users = pd.read_csv(\"data/users.csv\")"
   ]
  },
  {
   "cell_type": "code",
   "execution_count": null,
   "metadata": {},
   "outputs": [],
   "source": [
    "# ...And analyze the set (interactions are mandatory):\n",
    "util.diagnostic.analyze(\n",
    "    interactions,\n",
    "    items=items,\n",
    "    #users=users,\n",
    ")"
   ]
  },
  {
   "cell_type": "code",
   "execution_count": null,
   "metadata": {},
   "outputs": [],
   "source": []
  }
 ],
 "metadata": {
  "kernelspec": {
   "display_name": "conda_python3",
   "language": "python",
   "name": "conda_python3"
  },
  "language_info": {
   "codemirror_mode": {
    "name": "ipython",
    "version": 3
   },
   "file_extension": ".py",
   "mimetype": "text/x-python",
   "name": "python",
   "nbconvert_exporter": "python",
   "pygments_lexer": "ipython3",
   "version": "3.6.5"
  }
 },
 "nbformat": 4,
 "nbformat_minor": 4
}
